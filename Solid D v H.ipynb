{
 "cells": [
  {
   "cell_type": "code",
   "execution_count": 1,
   "metadata": {},
   "outputs": [
    {
     "data": {
      "text/plain": [
       "8"
      ]
     },
     "execution_count": 1,
     "metadata": {},
     "output_type": "execute_result"
    }
   ],
   "source": [
    "import random\n",
    "random.randint(0,10)"
   ]
  },
  {
   "cell_type": "code",
   "execution_count": 2,
   "metadata": {},
   "outputs": [],
   "source": [
    "class Gene():\n",
    "    \n",
    "    def __init__(self,effect):\n",
    "        self.effect = effect\n",
    "    def __str__(self):\n",
    "        return f'with {self.effect}'"
   ]
  },
  {
   "cell_type": "code",
   "execution_count": 9,
   "metadata": {},
   "outputs": [],
   "source": [
    "class Allele():\n",
    "    \n",
    "    def __init__(self,gene1,gene2):\n",
    "        pairing = (self.gene1,self.gene2)\n",
    "        return pairing(random.randint(0,1))"
   ]
  },
  {
   "cell_type": "code",
   "execution_count": 10,
   "metadata": {},
   "outputs": [],
   "source": [
    "class Dove():\n",
    "    \n",
    "    def __init__(self,kind,life,speed,genes):\n",
    "        self.life = life\n",
    "        self.speed = speed\n",
    "        self.kind = kind\n",
    "        self.genes = genes\n",
    "    \n",
    "    def Action(self,attack):\n",
    "        if self.life <= 0:\n",
    "            self.life = 0\n",
    "            return f'The {self.kind} dies...'\n",
    "        else:\n",
    "            return f'The {self.kind} attemps to flee'\n",
    "    \n",
    "    def __str__(self):\n",
    "        return f\"{self.kind} with {self.life} life and {self.speed} speed\""
   ]
  },
  {
   "cell_type": "code",
   "execution_count": 11,
   "metadata": {},
   "outputs": [],
   "source": [
    "class Hawk():\n",
    "    \n",
    "    def __init__(self,kind,life,speed,attack,genes):\n",
    "        self.kind = kind\n",
    "        self.life = life\n",
    "        self.attack = attack\n",
    "        self.speed = speed\n",
    "        self.genes = genes\n",
    "        \n",
    "    def Action(self,enemy):\n",
    "        if self.life <= 0:\n",
    "            self.life = 0\n",
    "            return f'The {self.kind} dies...'\n",
    "        else:\n",
    "            ahit = random.randint(0,self.attack)\n",
    "            enemy.life -= ahit\n",
    "            return f'The {self.kind} hits the {enemy.kind} for {ahit} points'\n",
    "\n",
    "        \n",
    "    def __str__(self):\n",
    "        return f\"{self.kind} with {self.life} life, {self.attack} attack and {self.speed} speed\""
   ]
  },
  {
   "cell_type": "code",
   "execution_count": 12,
   "metadata": {},
   "outputs": [],
   "source": [
    "def battle(aggressor,aggressee):\n",
    "    print(f'The {aggressor} is about to assault a  \\n{aggressee}.')\n",
    "    while (aggressor.life > 0 and aggressee.life > 0 ):\n",
    "        print(aggressor.Action(aggressee))\n",
    "        print(aggressee.Action(aggressor))\n"
   ]
  },
  {
   "cell_type": "code",
   "execution_count": 13,
   "metadata": {},
   "outputs": [
    {
     "ename": "TypeError",
     "evalue": "__init__() missing 1 required positional argument: 'genes'",
     "output_type": "error",
     "traceback": [
      "\u001b[1;31m---------------------------------------------------------------------------\u001b[0m",
      "\u001b[1;31mTypeError\u001b[0m                                 Traceback (most recent call last)",
      "\u001b[1;32m<ipython-input-13-2f8cd799fb9f>\u001b[0m in \u001b[0;36m<module>\u001b[1;34m()\u001b[0m\n\u001b[1;32m----> 1\u001b[1;33m \u001b[0mdove1\u001b[0m \u001b[1;33m=\u001b[0m \u001b[0mDove\u001b[0m\u001b[1;33m(\u001b[0m\u001b[1;34m'lesser spotted dove'\u001b[0m\u001b[1;33m,\u001b[0m\u001b[1;36m10\u001b[0m\u001b[1;33m,\u001b[0m\u001b[1;36m10\u001b[0m\u001b[1;33m)\u001b[0m\u001b[1;33m\u001b[0m\u001b[0m\n\u001b[0m\u001b[0;32m      2\u001b[0m \u001b[0mhawk1\u001b[0m \u001b[1;33m=\u001b[0m \u001b[0mHawk\u001b[0m\u001b[1;33m(\u001b[0m\u001b[1;34m'mangy hawk'\u001b[0m\u001b[1;33m,\u001b[0m\u001b[1;36m10\u001b[0m\u001b[1;33m,\u001b[0m\u001b[1;36m10\u001b[0m\u001b[1;33m,\u001b[0m\u001b[1;36m10\u001b[0m\u001b[1;33m)\u001b[0m\u001b[1;33m\u001b[0m\u001b[0m\n\u001b[0;32m      3\u001b[0m \u001b[0mdove2\u001b[0m \u001b[1;33m=\u001b[0m \u001b[0mDove\u001b[0m\u001b[1;33m(\u001b[0m\u001b[1;34m'albino dove'\u001b[0m\u001b[1;33m,\u001b[0m\u001b[1;36m10\u001b[0m\u001b[1;33m,\u001b[0m\u001b[1;36m10\u001b[0m\u001b[1;33m)\u001b[0m\u001b[1;33m\u001b[0m\u001b[0m\n\u001b[0;32m      4\u001b[0m \u001b[0mhawk2\u001b[0m \u001b[1;33m=\u001b[0m \u001b[0mHawk\u001b[0m\u001b[1;33m(\u001b[0m\u001b[1;34m'greater stripped hawk'\u001b[0m\u001b[1;33m,\u001b[0m\u001b[1;36m10\u001b[0m\u001b[1;33m,\u001b[0m\u001b[1;36m10\u001b[0m\u001b[1;33m,\u001b[0m\u001b[1;36m10\u001b[0m\u001b[1;33m)\u001b[0m\u001b[1;33m\u001b[0m\u001b[0m\n\u001b[0;32m      5\u001b[0m \u001b[1;33m\u001b[0m\u001b[0m\n",
      "\u001b[1;31mTypeError\u001b[0m: __init__() missing 1 required positional argument: 'genes'"
     ]
    }
   ],
   "source": [
    "dove1 = Dove('lesser spotted dove',10,10,'blue')\n",
    "hawk1 = Hawk('mangy hawk',10,10,10,'red')\n",
    "dove2 = Dove('albino dove',10,10)\n",
    "hawk2 = Hawk('greater stripped hawk',10,10,10)\n",
    "\n",
    "battle(hawk1,dove1)\n",
    "battle(hawk1,hawk2)"
   ]
  },
  {
   "cell_type": "code",
   "execution_count": null,
   "metadata": {},
   "outputs": [],
   "source": [
    "\n"
   ]
  },
  {
   "cell_type": "code",
   "execution_count": 8,
   "metadata": {},
   "outputs": [
    {
     "ename": "NameError",
     "evalue": "name 'hawk1' is not defined",
     "output_type": "error",
     "traceback": [
      "\u001b[1;31m---------------------------------------------------------------------------\u001b[0m",
      "\u001b[1;31mNameError\u001b[0m                                 Traceback (most recent call last)",
      "\u001b[1;32m<ipython-input-8-d10e8240d0b9>\u001b[0m in \u001b[0;36m<module>\u001b[1;34m()\u001b[0m\n\u001b[1;32m----> 1\u001b[1;33m \u001b[0mbattle\u001b[0m\u001b[1;33m(\u001b[0m\u001b[0mhawk1\u001b[0m\u001b[1;33m,\u001b[0m\u001b[0mdove1\u001b[0m\u001b[1;33m)\u001b[0m\u001b[1;33m\u001b[0m\u001b[0m\n\u001b[0m",
      "\u001b[1;31mNameError\u001b[0m: name 'hawk1' is not defined"
     ]
    }
   ],
   "source": [
    "battle(hawk1,dove1)"
   ]
  },
  {
   "cell_type": "code",
   "execution_count": null,
   "metadata": {},
   "outputs": [],
   "source": []
  },
  {
   "cell_type": "code",
   "execution_count": null,
   "metadata": {},
   "outputs": [],
   "source": []
  },
  {
   "cell_type": "code",
   "execution_count": null,
   "metadata": {},
   "outputs": [],
   "source": []
  }
 ],
 "metadata": {
  "kernelspec": {
   "display_name": "Python 3",
   "language": "python",
   "name": "python3"
  },
  "language_info": {
   "codemirror_mode": {
    "name": "ipython",
    "version": 3
   },
   "file_extension": ".py",
   "mimetype": "text/x-python",
   "name": "python",
   "nbconvert_exporter": "python",
   "pygments_lexer": "ipython3",
   "version": "3.6.5"
  }
 },
 "nbformat": 4,
 "nbformat_minor": 2
}
